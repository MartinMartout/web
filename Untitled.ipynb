{
 "cells": [
  {
   "cell_type": "code",
   "execution_count": 11,
   "id": "b1ec6cef",
   "metadata": {
    "scrolled": true
   },
   "outputs": [
    {
     "name": "stdout",
     "output_type": "stream",
     "text": [
      "第一個檔案的屬性 Set:\n",
      "{'Miraidon', 'Eternatus', 'Giratina', 'Dragapult', 'Arceus'}\n",
      "\n",
      "第二個檔案的屬性 Set:\n",
      "{'Ceruledge', 'Giratina', 'Dragapult', 'Lunala', 'Mimikyu'}\n",
      "\n",
      "聯集:\n",
      "{'Miraidon', 'Eternatus', 'Ceruledge', 'Giratina', 'Dragapult', 'Lunala', 'Mimikyu', 'Arceus'}\n",
      "\n",
      "交集:\n",
      "{'Giratina', 'Dragapult'}\n",
      "\n",
      "第一個檔案相對於第二個檔案的差集:\n",
      "{'Miraidon', 'Eternatus', 'Arceus'}\n",
      "\n",
      "第二個檔案相對於第一個檔案的差集:\n",
      "{'Ceruledge', 'Mimikyu', 'Lunala'}\n"
     ]
    }
   ],
   "source": [
    "import pandas as pd\n",
    "\n",
    "# 讀取兩個 CSV 檔案\n",
    "df1 = pd.read_csv('Pokemon.csv', header=None)  \n",
    "df2 = pd.read_csv('Pokemon1.csv', header=None)\n",
    "\n",
    "# 將 DataFrame 中的每一列轉換為 Set\n",
    "set1 = set(df1[0])\n",
    "set2 = set(df2[0])\n",
    "\n",
    "# 顯示原始資料\n",
    "print(\"龍屬性 Set:\")\n",
    "print(set1)\n",
    "print(\"\\ Set:\")\n",
    "print(set2)\n",
    "\n",
    "# 聯集\n",
    "union_set = set1.union(set2)\n",
    "\n",
    "# 交集\n",
    "intersection_set = set1.intersection(set2)\n",
    "\n",
    "# 差集\n",
    "difference_set1 = set1.difference(set2)\n",
    "difference_set2 = set2.difference(set1)\n",
    "\n",
    "# 顯示結果\n",
    "print(\"\\n聯集:\")\n",
    "print(union_set)\n",
    "print(\"\\n交集:\")\n",
    "print(intersection_set)\n",
    "print(\"\\n第一個檔案相對於第二個檔案的差集:\")\n",
    "print(difference_set1)\n",
    "print(\"\\n第二個檔案相對於第一個檔案的差集:\")\n",
    "print(difference_set2)\n"
   ]
  },
  {
   "cell_type": "code",
   "execution_count": 7,
   "id": "d891140c",
   "metadata": {},
   "outputs": [
    {
     "name": "stdout",
     "output_type": "stream",
     "text": [
      "Dragon Set:\n",
      "{'Dragon', 'Ghost'}\n",
      "\n",
      "Ghost Set:\n",
      "{'Ceruledge', 'Giratina'}\n",
      "\n",
      "聯集:\n",
      "{'Ceruledge', 'Giratina', 'Dragon', 'Ghost'}\n",
      "\n",
      "交集:\n",
      "set()\n",
      "\n",
      "龍屬性相對於幽靈屬性的差集:\n",
      "{'Dragon', 'Ghost'}\n",
      "\n",
      "幽靈屬性相對於龍屬性的差集:\n",
      "{'Ceruledge', 'Giratina'}\n"
     ]
    }
   ],
   "source": [
    "import pandas as pd\n",
    "\n",
    "# 讀取 CSV 檔案\n",
    "df = pd.read_csv('Pokemon.csv', header=None)  # 假設沒有標頭\n",
    "\n",
    "# 將龍屬性和幽靈屬性分別轉換為 Set\n",
    "Dragon_set = set(df.iloc[0])\n",
    "Ghost_set = set(df.iloc[1])\n",
    "\n",
    "# 顯示原始資料\n",
    "print(\"Dragon Set:\")\n",
    "print(Dragon_set)\n",
    "print(\"\\nGhost Set:\")\n",
    "print(Ghost_set)\n",
    "\n",
    "# 聯集\n",
    "union_set = Dragon_set.union(Ghost_set)\n",
    "\n",
    "# 交集\n",
    "intersection_set = Dragon_set.intersection(Ghost_set)\n",
    "\n",
    "# 差集（龍屬性相對於幽靈屬性的差集）\n",
    "difference_set_Dragon = Dragon_set.difference(Ghost_set)\n",
    "\n",
    "# 差集（幽靈屬性相對於龍屬性的差集）\n",
    "difference_set_Ghost = Ghost_set.difference(Dragon_set)\n",
    "\n",
    "# 顯示結果\n",
    "print(\"\\n聯集:\")\n",
    "print(union_set)\n",
    "print(\"\\n交集:\")\n",
    "print(intersection_set)\n",
    "print(\"\\n龍屬性相對於幽靈屬性的差集:\")\n",
    "print(difference_set_Dragon)\n",
    "print(\"\\n幽靈屬性相對於龍屬性的差集:\")\n",
    "print(difference_set_Ghost)\n"
   ]
  },
  {
   "cell_type": "code",
   "execution_count": null,
   "id": "c197bdd5",
   "metadata": {},
   "outputs": [],
   "source": []
  },
  {
   "cell_type": "code",
   "execution_count": null,
   "id": "92039455",
   "metadata": {},
   "outputs": [],
   "source": []
  }
 ],
 "metadata": {
  "kernelspec": {
   "display_name": "Python 3 (ipykernel)",
   "language": "python",
   "name": "python3"
  },
  "language_info": {
   "codemirror_mode": {
    "name": "ipython",
    "version": 3
   },
   "file_extension": ".py",
   "mimetype": "text/x-python",
   "name": "python",
   "nbconvert_exporter": "python",
   "pygments_lexer": "ipython3",
   "version": "3.11.5"
  }
 },
 "nbformat": 4,
 "nbformat_minor": 5
}
